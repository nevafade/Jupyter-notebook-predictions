{
  "cells": [
    {
      "cell_type": "markdown",
      "metadata": {
        "id": "QNDA1Slx-xN7"
      },
      "source": [
        "# Topic Modeling\n",
        "\n",
        "Topic modeling on Denver AirBnb review data through 2018"
      ]
    },
    {
      "cell_type": "markdown",
      "metadata": {
        "id": "fthT73Nw-5qx"
      },
      "source": [
        "### Import Data and Clean"
      ]
    },
    {
      "cell_type": "code",
      "execution_count": null,
      "metadata": {
        "colab": {
          "base_uri": "https://localhost:8080/"
        },
        "id": "CJR4Puj1HlFI",
        "outputId": "be587215-1c69-48ab-c7bf-0656221281e7"
      },
      "outputs": [
        {
          "output_type": "stream",
          "name": "stdout",
          "text": [
            "Mounted at /content/drive\n"
          ]
        }
      ],
      "source": [
        "from google.colab import drive\n",
        "drive.mount('/content/drive')"
      ]
    },
    {
      "cell_type": "code",
      "execution_count": null,
      "metadata": {
        "colab": {
          "base_uri": "https://localhost:8080/",
          "height": 206
        },
        "id": "cSdHT914-x16",
        "outputId": "3633f3a6-89c2-48e8-8a56-482fa16f4768"
      },
      "outputs": [
        {
          "output_type": "execute_result",
          "data": {
            "text/plain": [
              "   listing_id        id        date  reviewer_id reviewer_name  \\\n",
              "0      923880  28484508  2015-03-24     11595335      Lorraine   \n",
              "1       11156     19220  2009-12-05        52946          Jeff   \n",
              "2       11156     32592  2010-03-31        99382       Michael   \n",
              "3       11156     42280  2010-05-14       105797        Marina   \n",
              "4       11156    140942  2010-11-17       259213        Sigrid   \n",
              "\n",
              "                                            comments  \n",
              "0  Jasmin was the perfect hostess.\\r<br/>The flat...  \n",
              "1  Colleen was friendly and very helpful regardin...  \n",
              "2  Great place, centrally located, easy walk to t...  \n",
              "3  Colleen is very friendly and helpful. The apar...  \n",
              "4  Dear Colleen!\\r<br/>My friend Diemut from Germ...  "
            ],
            "text/html": [
              "\n",
              "  <div id=\"df-0bba7c7b-4114-474f-8ce7-1a51e5db083d\">\n",
              "    <div class=\"colab-df-container\">\n",
              "      <div>\n",
              "<style scoped>\n",
              "    .dataframe tbody tr th:only-of-type {\n",
              "        vertical-align: middle;\n",
              "    }\n",
              "\n",
              "    .dataframe tbody tr th {\n",
              "        vertical-align: top;\n",
              "    }\n",
              "\n",
              "    .dataframe thead th {\n",
              "        text-align: right;\n",
              "    }\n",
              "</style>\n",
              "<table border=\"1\" class=\"dataframe\">\n",
              "  <thead>\n",
              "    <tr style=\"text-align: right;\">\n",
              "      <th></th>\n",
              "      <th>listing_id</th>\n",
              "      <th>id</th>\n",
              "      <th>date</th>\n",
              "      <th>reviewer_id</th>\n",
              "      <th>reviewer_name</th>\n",
              "      <th>comments</th>\n",
              "    </tr>\n",
              "  </thead>\n",
              "  <tbody>\n",
              "    <tr>\n",
              "      <th>0</th>\n",
              "      <td>923880</td>\n",
              "      <td>28484508</td>\n",
              "      <td>2015-03-24</td>\n",
              "      <td>11595335</td>\n",
              "      <td>Lorraine</td>\n",
              "      <td>Jasmin was the perfect hostess.\\r&lt;br/&gt;The flat...</td>\n",
              "    </tr>\n",
              "    <tr>\n",
              "      <th>1</th>\n",
              "      <td>11156</td>\n",
              "      <td>19220</td>\n",
              "      <td>2009-12-05</td>\n",
              "      <td>52946</td>\n",
              "      <td>Jeff</td>\n",
              "      <td>Colleen was friendly and very helpful regardin...</td>\n",
              "    </tr>\n",
              "    <tr>\n",
              "      <th>2</th>\n",
              "      <td>11156</td>\n",
              "      <td>32592</td>\n",
              "      <td>2010-03-31</td>\n",
              "      <td>99382</td>\n",
              "      <td>Michael</td>\n",
              "      <td>Great place, centrally located, easy walk to t...</td>\n",
              "    </tr>\n",
              "    <tr>\n",
              "      <th>3</th>\n",
              "      <td>11156</td>\n",
              "      <td>42280</td>\n",
              "      <td>2010-05-14</td>\n",
              "      <td>105797</td>\n",
              "      <td>Marina</td>\n",
              "      <td>Colleen is very friendly and helpful. The apar...</td>\n",
              "    </tr>\n",
              "    <tr>\n",
              "      <th>4</th>\n",
              "      <td>11156</td>\n",
              "      <td>140942</td>\n",
              "      <td>2010-11-17</td>\n",
              "      <td>259213</td>\n",
              "      <td>Sigrid</td>\n",
              "      <td>Dear Colleen!\\r&lt;br/&gt;My friend Diemut from Germ...</td>\n",
              "    </tr>\n",
              "  </tbody>\n",
              "</table>\n",
              "</div>\n",
              "      <button class=\"colab-df-convert\" onclick=\"convertToInteractive('df-0bba7c7b-4114-474f-8ce7-1a51e5db083d')\"\n",
              "              title=\"Convert this dataframe to an interactive table.\"\n",
              "              style=\"display:none;\">\n",
              "        \n",
              "  <svg xmlns=\"http://www.w3.org/2000/svg\" height=\"24px\"viewBox=\"0 0 24 24\"\n",
              "       width=\"24px\">\n",
              "    <path d=\"M0 0h24v24H0V0z\" fill=\"none\"/>\n",
              "    <path d=\"M18.56 5.44l.94 2.06.94-2.06 2.06-.94-2.06-.94-.94-2.06-.94 2.06-2.06.94zm-11 1L8.5 8.5l.94-2.06 2.06-.94-2.06-.94L8.5 2.5l-.94 2.06-2.06.94zm10 10l.94 2.06.94-2.06 2.06-.94-2.06-.94-.94-2.06-.94 2.06-2.06.94z\"/><path d=\"M17.41 7.96l-1.37-1.37c-.4-.4-.92-.59-1.43-.59-.52 0-1.04.2-1.43.59L10.3 9.45l-7.72 7.72c-.78.78-.78 2.05 0 2.83L4 21.41c.39.39.9.59 1.41.59.51 0 1.02-.2 1.41-.59l7.78-7.78 2.81-2.81c.8-.78.8-2.07 0-2.86zM5.41 20L4 18.59l7.72-7.72 1.47 1.35L5.41 20z\"/>\n",
              "  </svg>\n",
              "      </button>\n",
              "      \n",
              "  <style>\n",
              "    .colab-df-container {\n",
              "      display:flex;\n",
              "      flex-wrap:wrap;\n",
              "      gap: 12px;\n",
              "    }\n",
              "\n",
              "    .colab-df-convert {\n",
              "      background-color: #E8F0FE;\n",
              "      border: none;\n",
              "      border-radius: 50%;\n",
              "      cursor: pointer;\n",
              "      display: none;\n",
              "      fill: #1967D2;\n",
              "      height: 32px;\n",
              "      padding: 0 0 0 0;\n",
              "      width: 32px;\n",
              "    }\n",
              "\n",
              "    .colab-df-convert:hover {\n",
              "      background-color: #E2EBFA;\n",
              "      box-shadow: 0px 1px 2px rgba(60, 64, 67, 0.3), 0px 1px 3px 1px rgba(60, 64, 67, 0.15);\n",
              "      fill: #174EA6;\n",
              "    }\n",
              "\n",
              "    [theme=dark] .colab-df-convert {\n",
              "      background-color: #3B4455;\n",
              "      fill: #D2E3FC;\n",
              "    }\n",
              "\n",
              "    [theme=dark] .colab-df-convert:hover {\n",
              "      background-color: #434B5C;\n",
              "      box-shadow: 0px 1px 3px 1px rgba(0, 0, 0, 0.15);\n",
              "      filter: drop-shadow(0px 1px 2px rgba(0, 0, 0, 0.3));\n",
              "      fill: #FFFFFF;\n",
              "    }\n",
              "  </style>\n",
              "\n",
              "      <script>\n",
              "        const buttonEl =\n",
              "          document.querySelector('#df-0bba7c7b-4114-474f-8ce7-1a51e5db083d button.colab-df-convert');\n",
              "        buttonEl.style.display =\n",
              "          google.colab.kernel.accessAllowed ? 'block' : 'none';\n",
              "\n",
              "        async function convertToInteractive(key) {\n",
              "          const element = document.querySelector('#df-0bba7c7b-4114-474f-8ce7-1a51e5db083d');\n",
              "          const dataTable =\n",
              "            await google.colab.kernel.invokeFunction('convertToInteractive',\n",
              "                                                     [key], {});\n",
              "          if (!dataTable) return;\n",
              "\n",
              "          const docLinkHtml = 'Like what you see? Visit the ' +\n",
              "            '<a target=\"_blank\" href=https://colab.research.google.com/notebooks/data_table.ipynb>data table notebook</a>'\n",
              "            + ' to learn more about interactive tables.';\n",
              "          element.innerHTML = '';\n",
              "          dataTable['output_type'] = 'display_data';\n",
              "          await google.colab.output.renderOutput(dataTable, element);\n",
              "          const docLink = document.createElement('div');\n",
              "          docLink.innerHTML = docLinkHtml;\n",
              "          element.appendChild(docLink);\n",
              "        }\n",
              "      </script>\n",
              "    </div>\n",
              "  </div>\n",
              "  "
            ]
          },
          "metadata": {},
          "execution_count": 2
        }
      ],
      "source": [
        "import numpy as np\n",
        "import pandas as pd\n",
        "\n",
        "df = pd.read_csv('/content/drive/MyDrive/Colab Notebooks/data/reviews.csv')\n",
        "df.head()"
      ]
    },
    {
      "cell_type": "code",
      "execution_count": null,
      "metadata": {
        "colab": {
          "base_uri": "https://localhost:8080/"
        },
        "id": "tWoQEZZQ-9ms",
        "outputId": "1f1c855a-74e5-49c0-8603-343f0a64ef5b"
      },
      "outputs": [
        {
          "output_type": "execute_result",
          "data": {
            "text/plain": [
              "listing_id        0\n",
              "id                0\n",
              "date              0\n",
              "reviewer_id       0\n",
              "reviewer_name     1\n",
              "comments         47\n",
              "dtype: int64"
            ]
          },
          "metadata": {},
          "execution_count": 3
        }
      ],
      "source": [
        "df.isnull().sum()"
      ]
    },
    {
      "cell_type": "code",
      "execution_count": null,
      "metadata": {
        "id": "Z7QCWmQz_L_t"
      },
      "outputs": [],
      "source": [
        "df.dropna(inplace=True)"
      ]
    },
    {
      "cell_type": "code",
      "execution_count": null,
      "metadata": {
        "colab": {
          "base_uri": "https://localhost:8080/"
        },
        "id": "taI9gnsc_Nw9",
        "outputId": "3e40a206-2b92-4488-b86b-96dfc53d4104"
      },
      "outputs": [
        {
          "output_type": "stream",
          "name": "stdout",
          "text": [
            "0 blanks:  []\n"
          ]
        }
      ],
      "source": [
        "blanks = []  # start with an empty list\n",
        "\n",
        "#change if there are additional columns\n",
        "for i,x1,x2,x3,x4,x5,rv in df.itertuples():  # iterate over the DataFrame\n",
        "    if type(rv)==str:            # avoid NaN values\n",
        "        if rv.isspace():         # test 'review' for whitespace\n",
        "            blanks.append(i)     # add matching index numbers to the list\n",
        "\n",
        "print(len(blanks), 'blanks: ', blanks)"
      ]
    },
    {
      "cell_type": "code",
      "execution_count": null,
      "metadata": {
        "id": "ohtvp8Eh_UdP"
      },
      "outputs": [],
      "source": [
        "df.drop(blanks, inplace=True)"
      ]
    },
    {
      "cell_type": "code",
      "execution_count": null,
      "metadata": {
        "id": "Pvm6qtKc_XSM"
      },
      "outputs": [],
      "source": [
        "#split into training and testing sets\n",
        "df['date']=pd.to_datetime(df['date'])\n",
        "\n",
        "\n",
        "df_train = df[df['date'].dt.year==2022].copy()\n",
        "df_test = df[df['date'].dt.year>=2022].copy()"
      ]
    },
    {
      "cell_type": "code",
      "execution_count": null,
      "metadata": {
        "colab": {
          "base_uri": "https://localhost:8080/"
        },
        "id": "VjTKCWap_hAV",
        "outputId": "f42f1805-1c54-4fe7-be25-ec074405f410"
      },
      "outputs": [
        {
          "output_type": "stream",
          "name": "stdout",
          "text": [
            "training data size:  47999\n",
            "testing data size:  47999\n"
          ]
        }
      ],
      "source": [
        "print(\"training data size: \" , len(df_train))\n",
        "print(\"testing data size: \" , len(df_test))"
      ]
    },
    {
      "cell_type": "markdown",
      "metadata": {
        "id": "fqvMRj14AC9m"
      },
      "source": [
        "### NLP Pre-processing"
      ]
    },
    {
      "cell_type": "code",
      "execution_count": null,
      "metadata": {
        "id": "UbOSjLe3AEdl"
      },
      "outputs": [],
      "source": [
        "import spacy\n",
        "nlp = spacy.load('en_core_web_sm')\n",
        "\n",
        "#tokenize comments\n",
        "texts_train = df_train['comments'].tolist()\n",
        "spacy_docs = list(nlp.pipe(texts_train))"
      ]
    },
    {
      "cell_type": "code",
      "execution_count": null,
      "metadata": {
        "id": "suHN6Qz4AVWl"
      },
      "outputs": [],
      "source": [
        "#lemmatize words and remove stop words\n",
        "docs = [[t.lemma_.lower() for t in doc if len(t.orth_) > 2 and not t.is_stop] for doc in spacy_docs]"
      ]
    },
    {
      "cell_type": "code",
      "execution_count": null,
      "metadata": {
        "colab": {
          "base_uri": "https://localhost:8080/"
        },
        "id": "P_GBLb11A35c",
        "outputId": "534902b8-e4f3-4de4-927b-507104b976a5"
      },
      "outputs": [
        {
          "output_type": "stream",
          "name": "stderr",
          "text": [
            "/usr/local/lib/python3.7/dist-packages/gensim/models/phrases.py:598: UserWarning: For a faster implementation, use the gensim.models.phrases.Phraser class\n",
            "  warnings.warn(\"For a faster implementation, use the gensim.models.phrases.Phraser class\")\n"
          ]
        }
      ],
      "source": [
        "#include bi-grams\n",
        "import re\n",
        "from gensim.models import Phrases\n",
        "\n",
        "\n",
        "bigram = Phrases(docs, min_count=10)\n",
        "tokens = []\n",
        "\n",
        "for idx in range(len(docs)):\n",
        "    for token in bigram[docs[idx]]:\n",
        "        if '_' in token:  # bigrams can be recognized by the \"_\" that joins the invidual words\n",
        "            docs[idx].append(token)\n",
        "            tokens.append(token)"
      ]
    },
    {
      "cell_type": "code",
      "execution_count": null,
      "metadata": {
        "colab": {
          "base_uri": "https://localhost:8080/"
        },
        "id": "TKVNNxPTBDNw",
        "outputId": "0d05fa87-c2d3-4569-a9f5-64ba0cb5b021"
      },
      "outputs": [
        {
          "output_type": "stream",
          "name": "stdout",
          "text": [
            "Number of unique words in original documents: 29386\n",
            "Number of unique words after removing rare and common words: 6515\n",
            "Example representation of document 3: [(40, 1), (41, 1), (42, 1), (43, 1), (44, 1), (45, 1), (46, 1), (47, 1), (48, 1), (49, 1), (50, 1), (51, 2)]\n"
          ]
        }
      ],
      "source": [
        "#create dictionary\n",
        "from gensim.corpora import Dictionary\n",
        "\n",
        "dictionary = Dictionary(docs)\n",
        "print('Number of unique words in original documents:', len(dictionary))\n",
        "\n",
        "dictionary.filter_extremes(no_below=5, no_above=0.1)\n",
        "print('Number of unique words after removing rare and common words:', len(dictionary))\n",
        "\n",
        "print(\"Example representation of document 3:\", dictionary.doc2bow(docs[2]))"
      ]
    },
    {
      "cell_type": "code",
      "execution_count": null,
      "metadata": {
        "id": "8T3MCiwXBUsk"
      },
      "outputs": [],
      "source": [
        "#create corpus\n",
        "corpus = [dictionary.doc2bow(doc) for doc in docs]"
      ]
    },
    {
      "cell_type": "markdown",
      "metadata": {
        "id": "ZQNsQMrPCFfC"
      },
      "source": [
        "### Run LDA model"
      ]
    },
    {
      "cell_type": "code",
      "execution_count": null,
      "metadata": {
        "colab": {
          "base_uri": "https://localhost:8080/"
        },
        "id": "LSzvyDaLBW-x",
        "outputId": "6f716b23-c1b5-4067-9dfa-a8633160a83b"
      },
      "outputs": [
        {
          "output_type": "stream",
          "name": "stdout",
          "text": [
            "0 : 0.021*\"beautiful\" + 0.017*\"quiet\" + 0.016*\"private\" + 0.013*\"love\" + 0.012*\"day\" + 0.012*\"pool\" + 0.012*\"area\" + 0.011*\"relax\" + 0.011*\"peaceful\" + 0.011*\"incredible\" \n",
            "\n",
            "1 : 0.040*\"helpful\" + 0.036*\"communication\" + 0.030*\"friendly\" + 0.027*\"thank\" + 0.026*\"check\" + 0.024*\"definitely\" + 0.020*\"responsive\" + 0.020*\"super\" + 0.019*\"quick\" + 0.017*\"respond\" \n",
            "\n",
            "2 : 0.026*\"room\" + 0.024*\"kitchen\" + 0.020*\"space\" + 0.019*\"tidy\" + 0.018*\"transport\" + 0.016*\"area\" + 0.015*\"public\" + 0.014*\"bedroom\" + 0.013*\"clean_tidy\" + 0.013*\"unit\" \n",
            "\n",
            "3 : 0.027*\"sydney\" + 0.027*\"restaurant\" + 0.025*\"station\" + 0.022*\"minute\" + 0.022*\"train\" + 0.021*\"shop\" + 0.019*\"city\" + 0.016*\"cafe\" + 0.015*\"away\" + 0.015*\"bus\" \n",
            "\n",
            "4 : 0.058*\"highly\" + 0.048*\"highly_recommend\" + 0.044*\"amazing\" + 0.042*\"beautiful\" + 0.038*\"house\" + 0.027*\"fantastic\" + 0.022*\"excellent\" + 0.022*\"wonderful\" + 0.021*\"communication\" + 0.020*\"enjoy\" \n",
            "\n",
            "5 : 0.044*\"check\" + 0.041*\"bed\" + 0.023*\"comfy\" + 0.016*\"communicate\" + 0.011*\"night\" + 0.011*\"early\" + 0.011*\"sleep\" + 0.011*\"communication\" + 0.010*\"easy_communicate\" + 0.010*\"get\" \n",
            "\n",
            "6 : 0.064*\"bondi\" + 0.034*\"value\" + 0.020*\"locate\" + 0.020*\"neat\" + 0.017*\"recommended\" + 0.016*\"come\" + 0.016*\"highly_recommended\" + 0.016*\"bondi_beach\" + 0.015*\"friendly\" + 0.015*\"service\" \n",
            "\n",
            "7 : 0.012*\"work\" + 0.012*\"issue\" + 0.011*\"property\" + 0.011*\"thing\" + 0.011*\"day\" + 0.010*\"like\" + 0.010*\"bit\" + 0.010*\"door\" + 0.009*\"night\" + 0.009*\"room\" \n",
            "\n",
            "8 : 0.035*\"parking\" + 0.025*\"distance\" + 0.024*\"park\" + 0.024*\"street\" + 0.021*\"access\" + 0.018*\"car\" + 0.016*\"walk_distance\" + 0.016*\"family\" + 0.012*\"short\" + 0.012*\"cafe\" \n",
            "\n",
            "9 : 0.029*\"love\" + 0.028*\"little\" + 0.024*\"home\" + 0.020*\"feel\" + 0.019*\"touch\" + 0.018*\"spot\" + 0.017*\"amazing\" + 0.017*\"welcome\" + 0.016*\"awesome\" + 0.016*\"weekend\" \n",
            "\n"
          ]
        }
      ],
      "source": [
        "#run LDA model\n",
        "from gensim.models import LdaModel\n",
        "\n",
        "model = LdaModel(corpus=corpus,\n",
        "                       id2word=dictionary,\n",
        "                       num_topics=10,#number of topics\n",
        "                       chunksize=500,\n",
        "                       passes=3,\n",
        "                       random_state=617)\n",
        "\n",
        "#print top words in each topic\n",
        "for (topic, words) in model.print_topics():\n",
        "  print(topic, \":\", words, '\\n')"
      ]
    },
    {
      "cell_type": "markdown",
      "metadata": {
        "id": "3yMej0iVeZ1V"
      },
      "source": [
        "#### Topics:\n",
        "The topics look like:\n",
        "\n",
        "1. (0) Host Communication\n",
        "2. (1) Recommend to others\n",
        "3. (2) Good Feelings\n",
        "4. (3) Location\n",
        "5. (4) Accommodations"
      ]
    },
    {
      "cell_type": "code",
      "execution_count": null,
      "metadata": {
        "id": "zGBeRtFyB2L5"
      },
      "outputs": [],
      "source": [
        "#Add topic number to original df\n",
        "topic_nums = []\n",
        "topic_1_confidence = []\n",
        "topic_2_confidence = []\n",
        "topic_3_confidence = []\n",
        "topic_4_confidence = []\n",
        "topic_5_confidence = []\n",
        "topic_6_confidence = []\n",
        "topic_7_confidence = []\n",
        "topic_8_confidence = []\n",
        "topic_9_confidence = []\n",
        "topic_0_confidence = []\n",
        "\n",
        "for (text, doc) in zip(texts_train, docs):\n",
        "    probs = np.array(model[dictionary.doc2bow(doc)])\n",
        "    topic_nums.append(probs[np.argsort(probs[:,-1])][-1,0])\n",
        "    confidence1 = -1\n",
        "    confidence2 = -1\n",
        "    confidence3 = -1\n",
        "    confidence4 = -1\n",
        "    confidence5 = -1\n",
        "    confidence6 = -1\n",
        "    confidence7 = -1\n",
        "    confidence8 = -1\n",
        "    confidence9 = -1\n",
        "    confidence0 = -1\n",
        "    for p in probs:\n",
        "      if p[0] == 1 :\n",
        "        confidence1 = p[1]\n",
        "      if p[0] == 2 :\n",
        "        confidence2 = p[1]\n",
        "      if p[0] == 3 :\n",
        "        confidence3 = p[1]\n",
        "      if p[0] == 4 :\n",
        "        confidence4 = p[1]\n",
        "      if p[0] == 5 :\n",
        "        confidence5 = p[1]\n",
        "      if p[0] == 6 :\n",
        "        confidence6 = p[1]\n",
        "      if p[0] == 7 :\n",
        "        confidence7 = p[1]\n",
        "      if p[0] == 8 :\n",
        "        confidence8 = p[1]\n",
        "      if p[0] == 9 :\n",
        "        confidence9 = p[1]\n",
        "      if p[0] == 0 :\n",
        "        confidence0 = p[1]\n",
        "    topic_1_confidence.append(confidence1)\n",
        "    topic_2_confidence.append(confidence2)\n",
        "    topic_3_confidence.append(confidence3)\n",
        "    topic_4_confidence.append(confidence4)\n",
        "    topic_5_confidence.append(confidence5)\n",
        "    topic_6_confidence.append(confidence6)\n",
        "    topic_7_confidence.append(confidence7)\n",
        "    topic_8_confidence.append(confidence8)\n",
        "    topic_9_confidence.append(confidence9)\n",
        "    topic_0_confidence.append(confidence0)\n",
        "\n",
        "df_train['topic'] = topic_nums\n",
        "df_train['topic1confidence'] = topic_1_confidence\n",
        "df_train['topic2confidence'] = topic_2_confidence\n",
        "df_train['topic3confidence'] = topic_3_confidence\n",
        "df_train['topic4confidence'] = topic_4_confidence\n",
        "df_train['topic5confidence'] = topic_5_confidence\n",
        "df_train['topic6confidence'] = topic_6_confidence\n",
        "df_train['topic7confidence'] = topic_7_confidence\n",
        "df_train['topic8confidence'] = topic_8_confidence\n",
        "df_train['topic9confidence'] = topic_9_confidence\n",
        "df_train['topic0confidence'] = topic_0_confidence"
      ]
    },
    {
      "cell_type": "code",
      "execution_count": null,
      "metadata": {
        "colab": {
          "base_uri": "https://localhost:8080/",
          "height": 652
        },
        "id": "SaWhNGqY2AOL",
        "outputId": "f940b846-401c-40f7-a20f-6f926fe94cd9"
      },
      "outputs": [
        {
          "output_type": "execute_result",
          "data": {
            "text/plain": [
              "     listing_id                  id       date  reviewer_id reviewer_name  \\\n",
              "46       923880  556793261850234844 2022-02-07     95481448       Caitlin   \n",
              "47       923880  580705049161873973 2022-03-12     13940471        Bianca   \n",
              "48       923880  603915027858519984 2022-04-13     67605513      Karoline   \n",
              "62       752978  531430309149660981 2022-01-03      2366718       Vanessa   \n",
              "263      934543  539349240023165073 2022-01-13     77414976        Nelson   \n",
              "\n",
              "                                              comments  topic  \\\n",
              "46   Jasmin’s apartment was a beautiful place to st...    8.0   \n",
              "47   Thanks to Jasmin for the impeccable, comfy and...    8.0   \n",
              "48   We had a wonderful stay at Jasmin's place! It ...    4.0   \n",
              "62   Tracey’s lovely house was perfect for a week a...    5.0   \n",
              "263  Great location next to a local cafe and short ...    8.0   \n",
              "\n",
              "     topic1confidence  topic2confidence  topic3confidence  topic4confidence  \\\n",
              "46           0.189672          0.185179          0.010004          0.157591   \n",
              "47           0.073310          0.048643          0.109167         -1.000000   \n",
              "48           0.101424          0.108639         -1.000000          0.356611   \n",
              "62          -1.000000         -1.000000          0.122689          0.219793   \n",
              "263          0.110669          0.276696          0.010003          0.119041   \n",
              "\n",
              "     topic5confidence  topic6confidence  topic7confidence  topic8confidence  \\\n",
              "46           0.010007              0.01          0.010005          0.407538   \n",
              "47           0.070282             -1.00         -1.000000          0.520549   \n",
              "48          -1.000000             -1.00          0.152313          0.245294   \n",
              "62           0.269743             -1.00         -1.000000          0.175416   \n",
              "263         -1.000000             -1.00         -1.000000          0.433589   \n",
              "\n",
              "     topic9confidence  topic0confidence  \n",
              "46           0.010002          0.010002  \n",
              "47           0.072043          0.097182  \n",
              "48          -1.000000         -1.000000  \n",
              "62           0.064602          0.131086  \n",
              "263          0.010000          0.010002  "
            ],
            "text/html": [
              "\n",
              "  <div id=\"df-f7349c1e-42b4-4d70-9a66-d195630c8ead\">\n",
              "    <div class=\"colab-df-container\">\n",
              "      <div>\n",
              "<style scoped>\n",
              "    .dataframe tbody tr th:only-of-type {\n",
              "        vertical-align: middle;\n",
              "    }\n",
              "\n",
              "    .dataframe tbody tr th {\n",
              "        vertical-align: top;\n",
              "    }\n",
              "\n",
              "    .dataframe thead th {\n",
              "        text-align: right;\n",
              "    }\n",
              "</style>\n",
              "<table border=\"1\" class=\"dataframe\">\n",
              "  <thead>\n",
              "    <tr style=\"text-align: right;\">\n",
              "      <th></th>\n",
              "      <th>listing_id</th>\n",
              "      <th>id</th>\n",
              "      <th>date</th>\n",
              "      <th>reviewer_id</th>\n",
              "      <th>reviewer_name</th>\n",
              "      <th>comments</th>\n",
              "      <th>topic</th>\n",
              "      <th>topic1confidence</th>\n",
              "      <th>topic2confidence</th>\n",
              "      <th>topic3confidence</th>\n",
              "      <th>topic4confidence</th>\n",
              "      <th>topic5confidence</th>\n",
              "      <th>topic6confidence</th>\n",
              "      <th>topic7confidence</th>\n",
              "      <th>topic8confidence</th>\n",
              "      <th>topic9confidence</th>\n",
              "      <th>topic0confidence</th>\n",
              "    </tr>\n",
              "  </thead>\n",
              "  <tbody>\n",
              "    <tr>\n",
              "      <th>46</th>\n",
              "      <td>923880</td>\n",
              "      <td>556793261850234844</td>\n",
              "      <td>2022-02-07</td>\n",
              "      <td>95481448</td>\n",
              "      <td>Caitlin</td>\n",
              "      <td>Jasmin’s apartment was a beautiful place to st...</td>\n",
              "      <td>8.0</td>\n",
              "      <td>0.189672</td>\n",
              "      <td>0.185179</td>\n",
              "      <td>0.010004</td>\n",
              "      <td>0.157591</td>\n",
              "      <td>0.010007</td>\n",
              "      <td>0.01</td>\n",
              "      <td>0.010005</td>\n",
              "      <td>0.407538</td>\n",
              "      <td>0.010002</td>\n",
              "      <td>0.010002</td>\n",
              "    </tr>\n",
              "    <tr>\n",
              "      <th>47</th>\n",
              "      <td>923880</td>\n",
              "      <td>580705049161873973</td>\n",
              "      <td>2022-03-12</td>\n",
              "      <td>13940471</td>\n",
              "      <td>Bianca</td>\n",
              "      <td>Thanks to Jasmin for the impeccable, comfy and...</td>\n",
              "      <td>8.0</td>\n",
              "      <td>0.073310</td>\n",
              "      <td>0.048643</td>\n",
              "      <td>0.109167</td>\n",
              "      <td>-1.000000</td>\n",
              "      <td>0.070282</td>\n",
              "      <td>-1.00</td>\n",
              "      <td>-1.000000</td>\n",
              "      <td>0.520549</td>\n",
              "      <td>0.072043</td>\n",
              "      <td>0.097182</td>\n",
              "    </tr>\n",
              "    <tr>\n",
              "      <th>48</th>\n",
              "      <td>923880</td>\n",
              "      <td>603915027858519984</td>\n",
              "      <td>2022-04-13</td>\n",
              "      <td>67605513</td>\n",
              "      <td>Karoline</td>\n",
              "      <td>We had a wonderful stay at Jasmin's place! It ...</td>\n",
              "      <td>4.0</td>\n",
              "      <td>0.101424</td>\n",
              "      <td>0.108639</td>\n",
              "      <td>-1.000000</td>\n",
              "      <td>0.356611</td>\n",
              "      <td>-1.000000</td>\n",
              "      <td>-1.00</td>\n",
              "      <td>0.152313</td>\n",
              "      <td>0.245294</td>\n",
              "      <td>-1.000000</td>\n",
              "      <td>-1.000000</td>\n",
              "    </tr>\n",
              "    <tr>\n",
              "      <th>62</th>\n",
              "      <td>752978</td>\n",
              "      <td>531430309149660981</td>\n",
              "      <td>2022-01-03</td>\n",
              "      <td>2366718</td>\n",
              "      <td>Vanessa</td>\n",
              "      <td>Tracey’s lovely house was perfect for a week a...</td>\n",
              "      <td>5.0</td>\n",
              "      <td>-1.000000</td>\n",
              "      <td>-1.000000</td>\n",
              "      <td>0.122689</td>\n",
              "      <td>0.219793</td>\n",
              "      <td>0.269743</td>\n",
              "      <td>-1.00</td>\n",
              "      <td>-1.000000</td>\n",
              "      <td>0.175416</td>\n",
              "      <td>0.064602</td>\n",
              "      <td>0.131086</td>\n",
              "    </tr>\n",
              "    <tr>\n",
              "      <th>263</th>\n",
              "      <td>934543</td>\n",
              "      <td>539349240023165073</td>\n",
              "      <td>2022-01-13</td>\n",
              "      <td>77414976</td>\n",
              "      <td>Nelson</td>\n",
              "      <td>Great location next to a local cafe and short ...</td>\n",
              "      <td>8.0</td>\n",
              "      <td>0.110669</td>\n",
              "      <td>0.276696</td>\n",
              "      <td>0.010003</td>\n",
              "      <td>0.119041</td>\n",
              "      <td>-1.000000</td>\n",
              "      <td>-1.00</td>\n",
              "      <td>-1.000000</td>\n",
              "      <td>0.433589</td>\n",
              "      <td>0.010000</td>\n",
              "      <td>0.010002</td>\n",
              "    </tr>\n",
              "  </tbody>\n",
              "</table>\n",
              "</div>\n",
              "      <button class=\"colab-df-convert\" onclick=\"convertToInteractive('df-f7349c1e-42b4-4d70-9a66-d195630c8ead')\"\n",
              "              title=\"Convert this dataframe to an interactive table.\"\n",
              "              style=\"display:none;\">\n",
              "        \n",
              "  <svg xmlns=\"http://www.w3.org/2000/svg\" height=\"24px\"viewBox=\"0 0 24 24\"\n",
              "       width=\"24px\">\n",
              "    <path d=\"M0 0h24v24H0V0z\" fill=\"none\"/>\n",
              "    <path d=\"M18.56 5.44l.94 2.06.94-2.06 2.06-.94-2.06-.94-.94-2.06-.94 2.06-2.06.94zm-11 1L8.5 8.5l.94-2.06 2.06-.94-2.06-.94L8.5 2.5l-.94 2.06-2.06.94zm10 10l.94 2.06.94-2.06 2.06-.94-2.06-.94-.94-2.06-.94 2.06-2.06.94z\"/><path d=\"M17.41 7.96l-1.37-1.37c-.4-.4-.92-.59-1.43-.59-.52 0-1.04.2-1.43.59L10.3 9.45l-7.72 7.72c-.78.78-.78 2.05 0 2.83L4 21.41c.39.39.9.59 1.41.59.51 0 1.02-.2 1.41-.59l7.78-7.78 2.81-2.81c.8-.78.8-2.07 0-2.86zM5.41 20L4 18.59l7.72-7.72 1.47 1.35L5.41 20z\"/>\n",
              "  </svg>\n",
              "      </button>\n",
              "      \n",
              "  <style>\n",
              "    .colab-df-container {\n",
              "      display:flex;\n",
              "      flex-wrap:wrap;\n",
              "      gap: 12px;\n",
              "    }\n",
              "\n",
              "    .colab-df-convert {\n",
              "      background-color: #E8F0FE;\n",
              "      border: none;\n",
              "      border-radius: 50%;\n",
              "      cursor: pointer;\n",
              "      display: none;\n",
              "      fill: #1967D2;\n",
              "      height: 32px;\n",
              "      padding: 0 0 0 0;\n",
              "      width: 32px;\n",
              "    }\n",
              "\n",
              "    .colab-df-convert:hover {\n",
              "      background-color: #E2EBFA;\n",
              "      box-shadow: 0px 1px 2px rgba(60, 64, 67, 0.3), 0px 1px 3px 1px rgba(60, 64, 67, 0.15);\n",
              "      fill: #174EA6;\n",
              "    }\n",
              "\n",
              "    [theme=dark] .colab-df-convert {\n",
              "      background-color: #3B4455;\n",
              "      fill: #D2E3FC;\n",
              "    }\n",
              "\n",
              "    [theme=dark] .colab-df-convert:hover {\n",
              "      background-color: #434B5C;\n",
              "      box-shadow: 0px 1px 3px 1px rgba(0, 0, 0, 0.15);\n",
              "      filter: drop-shadow(0px 1px 2px rgba(0, 0, 0, 0.3));\n",
              "      fill: #FFFFFF;\n",
              "    }\n",
              "  </style>\n",
              "\n",
              "      <script>\n",
              "        const buttonEl =\n",
              "          document.querySelector('#df-f7349c1e-42b4-4d70-9a66-d195630c8ead button.colab-df-convert');\n",
              "        buttonEl.style.display =\n",
              "          google.colab.kernel.accessAllowed ? 'block' : 'none';\n",
              "\n",
              "        async function convertToInteractive(key) {\n",
              "          const element = document.querySelector('#df-f7349c1e-42b4-4d70-9a66-d195630c8ead');\n",
              "          const dataTable =\n",
              "            await google.colab.kernel.invokeFunction('convertToInteractive',\n",
              "                                                     [key], {});\n",
              "          if (!dataTable) return;\n",
              "\n",
              "          const docLinkHtml = 'Like what you see? Visit the ' +\n",
              "            '<a target=\"_blank\" href=https://colab.research.google.com/notebooks/data_table.ipynb>data table notebook</a>'\n",
              "            + ' to learn more about interactive tables.';\n",
              "          element.innerHTML = '';\n",
              "          dataTable['output_type'] = 'display_data';\n",
              "          await google.colab.output.renderOutput(dataTable, element);\n",
              "          const docLink = document.createElement('div');\n",
              "          docLink.innerHTML = docLinkHtml;\n",
              "          element.appendChild(docLink);\n",
              "        }\n",
              "      </script>\n",
              "    </div>\n",
              "  </div>\n",
              "  "
            ]
          },
          "metadata": {},
          "execution_count": 16
        }
      ],
      "source": [
        "df_train.head()"
      ]
    },
    {
      "cell_type": "code",
      "source": [],
      "metadata": {
        "colab": {
          "base_uri": "https://localhost:8080/"
        },
        "id": "BhgH1UHGmrmL",
        "outputId": "dd6a8efa-83ab-443f-c1a6-c343f4cc67c1"
      },
      "execution_count": null,
      "outputs": [
        {
          "output_type": "execute_result",
          "data": {
            "text/plain": [
              "pandas.core.frame.DataFrame"
            ]
          },
          "metadata": {},
          "execution_count": 19
        }
      ]
    },
    {
      "cell_type": "code",
      "execution_count": null,
      "metadata": {
        "id": "kRbOFY5pCzyT"
      },
      "outputs": [],
      "source": [
        "#save df as csv\n",
        "\n",
        "#Uncomment and run once number of topics is finalized:\n",
        "df_train.to_csv('topic_model_2022.csv')"
      ]
    },
    {
      "cell_type": "markdown",
      "metadata": {
        "id": "npnSy4piCLNp"
      },
      "source": [
        "# Classification\n",
        "\n",
        "I want to predict the topic of reviews left in 2019 in Denver, trained on the reviews through 2018.\n"
      ]
    },
    {
      "cell_type": "code",
      "execution_count": null,
      "metadata": {
        "id": "4VLiCjibUhk1"
      },
      "outputs": [],
      "source": [
        "import numpy as np\n",
        "import pandas as pd\n",
        "\n",
        "df_train = pd.read_csv('inter.csv')"
      ]
    },
    {
      "cell_type": "code",
      "execution_count": null,
      "metadata": {
        "colab": {
          "base_uri": "https://localhost:8080/",
          "height": 206
        },
        "id": "K9ZlvEMRfLQr",
        "outputId": "e080e767-3b42-4fcd-8e8d-13980e024c5d"
      },
      "outputs": [
        {
          "data": {
            "text/html": [
              "\n",
              "  <div id=\"df-6beda4bd-10fb-4bdc-b132-cef2cb05bc80\">\n",
              "    <div class=\"colab-df-container\">\n",
              "      <div>\n",
              "<style scoped>\n",
              "    .dataframe tbody tr th:only-of-type {\n",
              "        vertical-align: middle;\n",
              "    }\n",
              "\n",
              "    .dataframe tbody tr th {\n",
              "        vertical-align: top;\n",
              "    }\n",
              "\n",
              "    .dataframe thead th {\n",
              "        text-align: right;\n",
              "    }\n",
              "</style>\n",
              "<table border=\"1\" class=\"dataframe\">\n",
              "  <thead>\n",
              "    <tr style=\"text-align: right;\">\n",
              "      <th></th>\n",
              "      <th>Unnamed: 0</th>\n",
              "      <th>listing_id</th>\n",
              "      <th>id</th>\n",
              "      <th>date</th>\n",
              "      <th>reviewer_id</th>\n",
              "      <th>reviewer_name</th>\n",
              "      <th>comments</th>\n",
              "      <th>topic</th>\n",
              "    </tr>\n",
              "  </thead>\n",
              "  <tbody>\n",
              "    <tr>\n",
              "      <th>0</th>\n",
              "      <td>61</td>\n",
              "      <td>752978</td>\n",
              "      <td>734922531</td>\n",
              "      <td>2021-02-27</td>\n",
              "      <td>672738</td>\n",
              "      <td>Harriet</td>\n",
              "      <td>Amazing location and a super comfortable house...</td>\n",
              "      <td>4.0</td>\n",
              "    </tr>\n",
              "    <tr>\n",
              "      <th>1</th>\n",
              "      <td>128</td>\n",
              "      <td>934398</td>\n",
              "      <td>762678899</td>\n",
              "      <td>2021-05-25</td>\n",
              "      <td>43301148</td>\n",
              "      <td>Seunghye</td>\n",
              "      <td>Good location. close to the station. It was a ...</td>\n",
              "      <td>2.0</td>\n",
              "    </tr>\n",
              "    <tr>\n",
              "      <th>2</th>\n",
              "      <td>252</td>\n",
              "      <td>934543</td>\n",
              "      <td>729324743</td>\n",
              "      <td>2021-02-06</td>\n",
              "      <td>30188327</td>\n",
              "      <td>Jane</td>\n",
              "      <td>Fabulous location, comfortable and well appoin...</td>\n",
              "      <td>3.0</td>\n",
              "    </tr>\n",
              "    <tr>\n",
              "      <th>3</th>\n",
              "      <td>253</td>\n",
              "      <td>934543</td>\n",
              "      <td>736870932</td>\n",
              "      <td>2021-03-06</td>\n",
              "      <td>3091628</td>\n",
              "      <td>Hope</td>\n",
              "      <td>We had a wonderful weekend away, Linda was so ...</td>\n",
              "      <td>2.0</td>\n",
              "    </tr>\n",
              "    <tr>\n",
              "      <th>4</th>\n",
              "      <td>254</td>\n",
              "      <td>934543</td>\n",
              "      <td>742846221</td>\n",
              "      <td>2021-03-27</td>\n",
              "      <td>84849356</td>\n",
              "      <td>Karen</td>\n",
              "      <td>Lovely accommodation in a great location. Clea...</td>\n",
              "      <td>4.0</td>\n",
              "    </tr>\n",
              "  </tbody>\n",
              "</table>\n",
              "</div>\n",
              "      <button class=\"colab-df-convert\" onclick=\"convertToInteractive('df-6beda4bd-10fb-4bdc-b132-cef2cb05bc80')\"\n",
              "              title=\"Convert this dataframe to an interactive table.\"\n",
              "              style=\"display:none;\">\n",
              "        \n",
              "  <svg xmlns=\"http://www.w3.org/2000/svg\" height=\"24px\"viewBox=\"0 0 24 24\"\n",
              "       width=\"24px\">\n",
              "    <path d=\"M0 0h24v24H0V0z\" fill=\"none\"/>\n",
              "    <path d=\"M18.56 5.44l.94 2.06.94-2.06 2.06-.94-2.06-.94-.94-2.06-.94 2.06-2.06.94zm-11 1L8.5 8.5l.94-2.06 2.06-.94-2.06-.94L8.5 2.5l-.94 2.06-2.06.94zm10 10l.94 2.06.94-2.06 2.06-.94-2.06-.94-.94-2.06-.94 2.06-2.06.94z\"/><path d=\"M17.41 7.96l-1.37-1.37c-.4-.4-.92-.59-1.43-.59-.52 0-1.04.2-1.43.59L10.3 9.45l-7.72 7.72c-.78.78-.78 2.05 0 2.83L4 21.41c.39.39.9.59 1.41.59.51 0 1.02-.2 1.41-.59l7.78-7.78 2.81-2.81c.8-.78.8-2.07 0-2.86zM5.41 20L4 18.59l7.72-7.72 1.47 1.35L5.41 20z\"/>\n",
              "  </svg>\n",
              "      </button>\n",
              "      \n",
              "  <style>\n",
              "    .colab-df-container {\n",
              "      display:flex;\n",
              "      flex-wrap:wrap;\n",
              "      gap: 12px;\n",
              "    }\n",
              "\n",
              "    .colab-df-convert {\n",
              "      background-color: #E8F0FE;\n",
              "      border: none;\n",
              "      border-radius: 50%;\n",
              "      cursor: pointer;\n",
              "      display: none;\n",
              "      fill: #1967D2;\n",
              "      height: 32px;\n",
              "      padding: 0 0 0 0;\n",
              "      width: 32px;\n",
              "    }\n",
              "\n",
              "    .colab-df-convert:hover {\n",
              "      background-color: #E2EBFA;\n",
              "      box-shadow: 0px 1px 2px rgba(60, 64, 67, 0.3), 0px 1px 3px 1px rgba(60, 64, 67, 0.15);\n",
              "      fill: #174EA6;\n",
              "    }\n",
              "\n",
              "    [theme=dark] .colab-df-convert {\n",
              "      background-color: #3B4455;\n",
              "      fill: #D2E3FC;\n",
              "    }\n",
              "\n",
              "    [theme=dark] .colab-df-convert:hover {\n",
              "      background-color: #434B5C;\n",
              "      box-shadow: 0px 1px 3px 1px rgba(0, 0, 0, 0.15);\n",
              "      filter: drop-shadow(0px 1px 2px rgba(0, 0, 0, 0.3));\n",
              "      fill: #FFFFFF;\n",
              "    }\n",
              "  </style>\n",
              "\n",
              "      <script>\n",
              "        const buttonEl =\n",
              "          document.querySelector('#df-6beda4bd-10fb-4bdc-b132-cef2cb05bc80 button.colab-df-convert');\n",
              "        buttonEl.style.display =\n",
              "          google.colab.kernel.accessAllowed ? 'block' : 'none';\n",
              "\n",
              "        async function convertToInteractive(key) {\n",
              "          const element = document.querySelector('#df-6beda4bd-10fb-4bdc-b132-cef2cb05bc80');\n",
              "          const dataTable =\n",
              "            await google.colab.kernel.invokeFunction('convertToInteractive',\n",
              "                                                     [key], {});\n",
              "          if (!dataTable) return;\n",
              "\n",
              "          const docLinkHtml = 'Like what you see? Visit the ' +\n",
              "            '<a target=\"_blank\" href=https://colab.research.google.com/notebooks/data_table.ipynb>data table notebook</a>'\n",
              "            + ' to learn more about interactive tables.';\n",
              "          element.innerHTML = '';\n",
              "          dataTable['output_type'] = 'display_data';\n",
              "          await google.colab.output.renderOutput(dataTable, element);\n",
              "          const docLink = document.createElement('div');\n",
              "          docLink.innerHTML = docLinkHtml;\n",
              "          element.appendChild(docLink);\n",
              "        }\n",
              "      </script>\n",
              "    </div>\n",
              "  </div>\n",
              "  "
            ],
            "text/plain": [
              "   Unnamed: 0  listing_id         id        date  reviewer_id reviewer_name  \\\n",
              "0          61      752978  734922531  2021-02-27       672738       Harriet   \n",
              "1         128      934398  762678899  2021-05-25     43301148      Seunghye   \n",
              "2         252      934543  729324743  2021-02-06     30188327          Jane   \n",
              "3         253      934543  736870932  2021-03-06      3091628          Hope   \n",
              "4         254      934543  742846221  2021-03-27     84849356         Karen   \n",
              "\n",
              "                                            comments  topic  \n",
              "0  Amazing location and a super comfortable house...    4.0  \n",
              "1  Good location. close to the station. It was a ...    2.0  \n",
              "2  Fabulous location, comfortable and well appoin...    3.0  \n",
              "3  We had a wonderful weekend away, Linda was so ...    2.0  \n",
              "4  Lovely accommodation in a great location. Clea...    4.0  "
            ]
          },
          "execution_count": 25,
          "metadata": {},
          "output_type": "execute_result"
        }
      ],
      "source": [
        "df_train.head()"
      ]
    },
    {
      "cell_type": "code",
      "execution_count": null,
      "metadata": {
        "id": "OI4NoXv2CMx7"
      },
      "outputs": [],
      "source": [
        "import string\n",
        "from spacy.lang.en.stop_words import STOP_WORDS\n",
        "from spacy.lang.en import English\n",
        "\n",
        "from sklearn.feature_extraction.text import CountVectorizer,TfidfVectorizer\n",
        "from sklearn.base import TransformerMixin\n",
        "from sklearn.pipeline import Pipeline\n",
        "\n",
        "# Create our list of punctuation marks\n",
        "punctuations = string.punctuation\n",
        "\n",
        "# Create our list of stopwords\n",
        "nlp = spacy.load('en_core_web_sm')\n",
        "stop_words = spacy.lang.en.stop_words.STOP_WORDS\n",
        "\n",
        "# Load English tokenizer, tagger, parser, NER and word vectors\n",
        "parser = English()\n",
        "\n",
        "# Creating our tokenizer function\n",
        "def spacy_tokenizer(sentence):\n",
        "    # Creating our token object, which is used to create documents with linguistic annotations.\n",
        "    spacy_docs = nlp(sentence)\n",
        "\n",
        "    docs = [[t.lemma_.lower() for t in doc if len(t.orth_) > 2 and not t.is_stop] for doc in spacy_docs]\n",
        "    mytokens = []\n",
        "    for ar in docs:\n",
        "      mytokens.extend(ar)\n",
        "\n",
        "    # return preprocessed list of tokens\n",
        "    return mytokens\n",
        "\n",
        "\n",
        "# Custom transformer using spaCy\n",
        "class predictors(TransformerMixin):\n",
        "    def transform(self, X, **transform_params):\n",
        "        # Cleaning Text\n",
        "        return [clean_text(text) for text in X]\n",
        "\n",
        "    def fit(self, X, y=None, **fit_params):\n",
        "        return self\n",
        "\n",
        "    def get_params(self, deep=True):\n",
        "        return {}\n",
        "\n",
        "# Basic function to clean the text\n",
        "def clean_text(text):\n",
        "    # Removing spaces and converting text into lowercase\n",
        "    return text.strip().lower()\n",
        "\n",
        "#assign TF_IDF vectorizer\n",
        "tfidf_vector = TfidfVectorizer(tokenizer = spacy_tokenizer)"
      ]
    },
    {
      "cell_type": "code",
      "execution_count": null,
      "metadata": {
        "id": "ELXazvQCFO5X"
      },
      "outputs": [],
      "source": [
        "from sklearn.model_selection import train_test_split\n",
        "\n",
        "X = df_train['comments'] # the features we want to analyze\n",
        "ylabels = df_train['topic'] # the labels, or answers, we want to test against\n",
        "\n",
        "X_train, X_test, y_train, y_test = train_test_split(X, ylabels, test_size=0.3, random_state=617)"
      ]
    },
    {
      "cell_type": "code",
      "execution_count": null,
      "metadata": {
        "id": "q_kHuGc3dkX-"
      },
      "outputs": [],
      "source": [
        "X_train = df_train['comments']\n",
        "y_train = df_train['topic']\n",
        "X_test = df_test['comments']"
      ]
    },
    {
      "cell_type": "code",
      "execution_count": null,
      "metadata": {
        "colab": {
          "base_uri": "https://localhost:8080/"
        },
        "id": "3VWSOYcwnCjs",
        "outputId": "e57c1851-2365-4008-c26b-0a4de8045fc1"
      },
      "outputs": [
        {
          "data": {
            "text/plain": [
              "0"
            ]
          },
          "execution_count": 21,
          "metadata": {},
          "output_type": "execute_result"
        }
      ],
      "source": [
        "X_train.isnull().sum()"
      ]
    },
    {
      "cell_type": "markdown",
      "metadata": {
        "id": "8Ii8Ps3aZruF"
      },
      "source": [
        "### SVM"
      ]
    },
    {
      "cell_type": "code",
      "execution_count": null,
      "metadata": {
        "colab": {
          "background_save": true
        },
        "id": "43xC3T2EZtTy",
        "outputId": "93a14113-e431-4993-8060-fc74acd1eea1"
      },
      "outputs": [
        {
          "ename": "ValueError",
          "evalue": "ignored",
          "output_type": "error",
          "traceback": [
            "\u001b[0;31m---------------------------------------------------------------------------\u001b[0m",
            "\u001b[0;31mValueError\u001b[0m                                Traceback (most recent call last)",
            "\u001b[0;32m<ipython-input-27-0bf22646c1ae>\u001b[0m in \u001b[0;36m<module>\u001b[0;34m()\u001b[0m\n\u001b[1;32m      9\u001b[0m \u001b[0;34m\u001b[0m\u001b[0m\n\u001b[1;32m     10\u001b[0m \u001b[0;31m# model generation\u001b[0m\u001b[0;34m\u001b[0m\u001b[0;34m\u001b[0m\u001b[0;34m\u001b[0m\u001b[0m\n\u001b[0;32m---> 11\u001b[0;31m \u001b[0mpipe\u001b[0m\u001b[0;34m.\u001b[0m\u001b[0mfit\u001b[0m\u001b[0;34m(\u001b[0m\u001b[0mX_train\u001b[0m\u001b[0;34m,\u001b[0m\u001b[0my_train\u001b[0m\u001b[0;34m)\u001b[0m\u001b[0;34m\u001b[0m\u001b[0;34m\u001b[0m\u001b[0m\n\u001b[0m",
            "\u001b[0;32m/usr/local/lib/python3.7/dist-packages/sklearn/pipeline.py\u001b[0m in \u001b[0;36mfit\u001b[0;34m(self, X, y, **fit_params)\u001b[0m\n\u001b[1;32m    388\u001b[0m         \"\"\"\n\u001b[1;32m    389\u001b[0m         \u001b[0mfit_params_steps\u001b[0m \u001b[0;34m=\u001b[0m \u001b[0mself\u001b[0m\u001b[0;34m.\u001b[0m\u001b[0m_check_fit_params\u001b[0m\u001b[0;34m(\u001b[0m\u001b[0;34m**\u001b[0m\u001b[0mfit_params\u001b[0m\u001b[0;34m)\u001b[0m\u001b[0;34m\u001b[0m\u001b[0;34m\u001b[0m\u001b[0m\n\u001b[0;32m--> 390\u001b[0;31m         \u001b[0mXt\u001b[0m \u001b[0;34m=\u001b[0m \u001b[0mself\u001b[0m\u001b[0;34m.\u001b[0m\u001b[0m_fit\u001b[0m\u001b[0;34m(\u001b[0m\u001b[0mX\u001b[0m\u001b[0;34m,\u001b[0m \u001b[0my\u001b[0m\u001b[0;34m,\u001b[0m \u001b[0;34m**\u001b[0m\u001b[0mfit_params_steps\u001b[0m\u001b[0;34m)\u001b[0m\u001b[0;34m\u001b[0m\u001b[0;34m\u001b[0m\u001b[0m\n\u001b[0m\u001b[1;32m    391\u001b[0m         \u001b[0;32mwith\u001b[0m \u001b[0m_print_elapsed_time\u001b[0m\u001b[0;34m(\u001b[0m\u001b[0;34m\"Pipeline\"\u001b[0m\u001b[0;34m,\u001b[0m \u001b[0mself\u001b[0m\u001b[0;34m.\u001b[0m\u001b[0m_log_message\u001b[0m\u001b[0;34m(\u001b[0m\u001b[0mlen\u001b[0m\u001b[0;34m(\u001b[0m\u001b[0mself\u001b[0m\u001b[0;34m.\u001b[0m\u001b[0msteps\u001b[0m\u001b[0;34m)\u001b[0m \u001b[0;34m-\u001b[0m \u001b[0;36m1\u001b[0m\u001b[0;34m)\u001b[0m\u001b[0;34m)\u001b[0m\u001b[0;34m:\u001b[0m\u001b[0;34m\u001b[0m\u001b[0;34m\u001b[0m\u001b[0m\n\u001b[1;32m    392\u001b[0m             \u001b[0;32mif\u001b[0m \u001b[0mself\u001b[0m\u001b[0;34m.\u001b[0m\u001b[0m_final_estimator\u001b[0m \u001b[0;34m!=\u001b[0m \u001b[0;34m\"passthrough\"\u001b[0m\u001b[0;34m:\u001b[0m\u001b[0;34m\u001b[0m\u001b[0;34m\u001b[0m\u001b[0m\n",
            "\u001b[0;32m/usr/local/lib/python3.7/dist-packages/sklearn/pipeline.py\u001b[0m in \u001b[0;36m_fit\u001b[0;34m(self, X, y, **fit_params_steps)\u001b[0m\n\u001b[1;32m    353\u001b[0m                 \u001b[0mmessage_clsname\u001b[0m\u001b[0;34m=\u001b[0m\u001b[0;34m\"Pipeline\"\u001b[0m\u001b[0;34m,\u001b[0m\u001b[0;34m\u001b[0m\u001b[0;34m\u001b[0m\u001b[0m\n\u001b[1;32m    354\u001b[0m                 \u001b[0mmessage\u001b[0m\u001b[0;34m=\u001b[0m\u001b[0mself\u001b[0m\u001b[0;34m.\u001b[0m\u001b[0m_log_message\u001b[0m\u001b[0;34m(\u001b[0m\u001b[0mstep_idx\u001b[0m\u001b[0;34m)\u001b[0m\u001b[0;34m,\u001b[0m\u001b[0;34m\u001b[0m\u001b[0;34m\u001b[0m\u001b[0m\n\u001b[0;32m--> 355\u001b[0;31m                 \u001b[0;34m**\u001b[0m\u001b[0mfit_params_steps\u001b[0m\u001b[0;34m[\u001b[0m\u001b[0mname\u001b[0m\u001b[0;34m]\u001b[0m\u001b[0;34m,\u001b[0m\u001b[0;34m\u001b[0m\u001b[0;34m\u001b[0m\u001b[0m\n\u001b[0m\u001b[1;32m    356\u001b[0m             )\n\u001b[1;32m    357\u001b[0m             \u001b[0;31m# Replace the transformer of the step with the fitted\u001b[0m\u001b[0;34m\u001b[0m\u001b[0;34m\u001b[0m\u001b[0;34m\u001b[0m\u001b[0m\n",
            "\u001b[0;32m/usr/local/lib/python3.7/dist-packages/joblib/memory.py\u001b[0m in \u001b[0;36m__call__\u001b[0;34m(self, *args, **kwargs)\u001b[0m\n\u001b[1;32m    347\u001b[0m \u001b[0;34m\u001b[0m\u001b[0m\n\u001b[1;32m    348\u001b[0m     \u001b[0;32mdef\u001b[0m \u001b[0m__call__\u001b[0m\u001b[0;34m(\u001b[0m\u001b[0mself\u001b[0m\u001b[0;34m,\u001b[0m \u001b[0;34m*\u001b[0m\u001b[0margs\u001b[0m\u001b[0;34m,\u001b[0m \u001b[0;34m**\u001b[0m\u001b[0mkwargs\u001b[0m\u001b[0;34m)\u001b[0m\u001b[0;34m:\u001b[0m\u001b[0;34m\u001b[0m\u001b[0;34m\u001b[0m\u001b[0m\n\u001b[0;32m--> 349\u001b[0;31m         \u001b[0;32mreturn\u001b[0m \u001b[0mself\u001b[0m\u001b[0;34m.\u001b[0m\u001b[0mfunc\u001b[0m\u001b[0;34m(\u001b[0m\u001b[0;34m*\u001b[0m\u001b[0margs\u001b[0m\u001b[0;34m,\u001b[0m \u001b[0;34m**\u001b[0m\u001b[0mkwargs\u001b[0m\u001b[0;34m)\u001b[0m\u001b[0;34m\u001b[0m\u001b[0;34m\u001b[0m\u001b[0m\n\u001b[0m\u001b[1;32m    350\u001b[0m \u001b[0;34m\u001b[0m\u001b[0m\n\u001b[1;32m    351\u001b[0m     \u001b[0;32mdef\u001b[0m \u001b[0mcall_and_shelve\u001b[0m\u001b[0;34m(\u001b[0m\u001b[0mself\u001b[0m\u001b[0;34m,\u001b[0m \u001b[0;34m*\u001b[0m\u001b[0margs\u001b[0m\u001b[0;34m,\u001b[0m \u001b[0;34m**\u001b[0m\u001b[0mkwargs\u001b[0m\u001b[0;34m)\u001b[0m\u001b[0;34m:\u001b[0m\u001b[0;34m\u001b[0m\u001b[0;34m\u001b[0m\u001b[0m\n",
            "\u001b[0;32m/usr/local/lib/python3.7/dist-packages/sklearn/pipeline.py\u001b[0m in \u001b[0;36m_fit_transform_one\u001b[0;34m(transformer, X, y, weight, message_clsname, message, **fit_params)\u001b[0m\n\u001b[1;32m    891\u001b[0m     \u001b[0;32mwith\u001b[0m \u001b[0m_print_elapsed_time\u001b[0m\u001b[0;34m(\u001b[0m\u001b[0mmessage_clsname\u001b[0m\u001b[0;34m,\u001b[0m \u001b[0mmessage\u001b[0m\u001b[0;34m)\u001b[0m\u001b[0;34m:\u001b[0m\u001b[0;34m\u001b[0m\u001b[0;34m\u001b[0m\u001b[0m\n\u001b[1;32m    892\u001b[0m         \u001b[0;32mif\u001b[0m \u001b[0mhasattr\u001b[0m\u001b[0;34m(\u001b[0m\u001b[0mtransformer\u001b[0m\u001b[0;34m,\u001b[0m \u001b[0;34m\"fit_transform\"\u001b[0m\u001b[0;34m)\u001b[0m\u001b[0;34m:\u001b[0m\u001b[0;34m\u001b[0m\u001b[0;34m\u001b[0m\u001b[0m\n\u001b[0;32m--> 893\u001b[0;31m             \u001b[0mres\u001b[0m \u001b[0;34m=\u001b[0m \u001b[0mtransformer\u001b[0m\u001b[0;34m.\u001b[0m\u001b[0mfit_transform\u001b[0m\u001b[0;34m(\u001b[0m\u001b[0mX\u001b[0m\u001b[0;34m,\u001b[0m \u001b[0my\u001b[0m\u001b[0;34m,\u001b[0m \u001b[0;34m**\u001b[0m\u001b[0mfit_params\u001b[0m\u001b[0;34m)\u001b[0m\u001b[0;34m\u001b[0m\u001b[0;34m\u001b[0m\u001b[0m\n\u001b[0m\u001b[1;32m    894\u001b[0m         \u001b[0;32melse\u001b[0m\u001b[0;34m:\u001b[0m\u001b[0;34m\u001b[0m\u001b[0;34m\u001b[0m\u001b[0m\n\u001b[1;32m    895\u001b[0m             \u001b[0mres\u001b[0m \u001b[0;34m=\u001b[0m \u001b[0mtransformer\u001b[0m\u001b[0;34m.\u001b[0m\u001b[0mfit\u001b[0m\u001b[0;34m(\u001b[0m\u001b[0mX\u001b[0m\u001b[0;34m,\u001b[0m \u001b[0my\u001b[0m\u001b[0;34m,\u001b[0m \u001b[0;34m**\u001b[0m\u001b[0mfit_params\u001b[0m\u001b[0;34m)\u001b[0m\u001b[0;34m.\u001b[0m\u001b[0mtransform\u001b[0m\u001b[0;34m(\u001b[0m\u001b[0mX\u001b[0m\u001b[0;34m)\u001b[0m\u001b[0;34m\u001b[0m\u001b[0;34m\u001b[0m\u001b[0m\n",
            "\u001b[0;32m/usr/local/lib/python3.7/dist-packages/sklearn/feature_extraction/text.py\u001b[0m in \u001b[0;36mfit_transform\u001b[0;34m(self, raw_documents, y)\u001b[0m\n\u001b[1;32m   2075\u001b[0m         \"\"\"\n\u001b[1;32m   2076\u001b[0m         \u001b[0mself\u001b[0m\u001b[0;34m.\u001b[0m\u001b[0m_check_params\u001b[0m\u001b[0;34m(\u001b[0m\u001b[0;34m)\u001b[0m\u001b[0;34m\u001b[0m\u001b[0;34m\u001b[0m\u001b[0m\n\u001b[0;32m-> 2077\u001b[0;31m         \u001b[0mX\u001b[0m \u001b[0;34m=\u001b[0m \u001b[0msuper\u001b[0m\u001b[0;34m(\u001b[0m\u001b[0;34m)\u001b[0m\u001b[0;34m.\u001b[0m\u001b[0mfit_transform\u001b[0m\u001b[0;34m(\u001b[0m\u001b[0mraw_documents\u001b[0m\u001b[0;34m)\u001b[0m\u001b[0;34m\u001b[0m\u001b[0;34m\u001b[0m\u001b[0m\n\u001b[0m\u001b[1;32m   2078\u001b[0m         \u001b[0mself\u001b[0m\u001b[0;34m.\u001b[0m\u001b[0m_tfidf\u001b[0m\u001b[0;34m.\u001b[0m\u001b[0mfit\u001b[0m\u001b[0;34m(\u001b[0m\u001b[0mX\u001b[0m\u001b[0;34m)\u001b[0m\u001b[0;34m\u001b[0m\u001b[0;34m\u001b[0m\u001b[0m\n\u001b[1;32m   2079\u001b[0m         \u001b[0;31m# X is already a transformed view of raw_documents so\u001b[0m\u001b[0;34m\u001b[0m\u001b[0;34m\u001b[0m\u001b[0;34m\u001b[0m\u001b[0m\n",
            "\u001b[0;32m/usr/local/lib/python3.7/dist-packages/sklearn/feature_extraction/text.py\u001b[0m in \u001b[0;36mfit_transform\u001b[0;34m(self, raw_documents, y)\u001b[0m\n\u001b[1;32m   1328\u001b[0m                     \u001b[0;32mbreak\u001b[0m\u001b[0;34m\u001b[0m\u001b[0;34m\u001b[0m\u001b[0m\n\u001b[1;32m   1329\u001b[0m \u001b[0;34m\u001b[0m\u001b[0m\n\u001b[0;32m-> 1330\u001b[0;31m         \u001b[0mvocabulary\u001b[0m\u001b[0;34m,\u001b[0m \u001b[0mX\u001b[0m \u001b[0;34m=\u001b[0m \u001b[0mself\u001b[0m\u001b[0;34m.\u001b[0m\u001b[0m_count_vocab\u001b[0m\u001b[0;34m(\u001b[0m\u001b[0mraw_documents\u001b[0m\u001b[0;34m,\u001b[0m \u001b[0mself\u001b[0m\u001b[0;34m.\u001b[0m\u001b[0mfixed_vocabulary_\u001b[0m\u001b[0;34m)\u001b[0m\u001b[0;34m\u001b[0m\u001b[0;34m\u001b[0m\u001b[0m\n\u001b[0m\u001b[1;32m   1331\u001b[0m \u001b[0;34m\u001b[0m\u001b[0m\n\u001b[1;32m   1332\u001b[0m         \u001b[0;32mif\u001b[0m \u001b[0mself\u001b[0m\u001b[0;34m.\u001b[0m\u001b[0mbinary\u001b[0m\u001b[0;34m:\u001b[0m\u001b[0;34m\u001b[0m\u001b[0;34m\u001b[0m\u001b[0m\n",
            "\u001b[0;32m/usr/local/lib/python3.7/dist-packages/sklearn/feature_extraction/text.py\u001b[0m in \u001b[0;36m_count_vocab\u001b[0;34m(self, raw_documents, fixed_vocab)\u001b[0m\n\u001b[1;32m   1219\u001b[0m             \u001b[0;32mif\u001b[0m \u001b[0;32mnot\u001b[0m \u001b[0mvocabulary\u001b[0m\u001b[0;34m:\u001b[0m\u001b[0;34m\u001b[0m\u001b[0;34m\u001b[0m\u001b[0m\n\u001b[1;32m   1220\u001b[0m                 raise ValueError(\n\u001b[0;32m-> 1221\u001b[0;31m                     \u001b[0;34m\"empty vocabulary; perhaps the documents only contain stop words\"\u001b[0m\u001b[0;34m\u001b[0m\u001b[0;34m\u001b[0m\u001b[0m\n\u001b[0m\u001b[1;32m   1222\u001b[0m                 )\n\u001b[1;32m   1223\u001b[0m \u001b[0;34m\u001b[0m\u001b[0m\n",
            "\u001b[0;31mValueError\u001b[0m: empty vocabulary; perhaps the documents only contain stop words"
          ]
        }
      ],
      "source": [
        "from sklearn.ensemble import RandomForestClassifier\n",
        "classifier = RandomForestClassifier(n_estimators = 1000,\n",
        "                                    max_depth = 5)\n",
        "\n",
        "# Create pipeline using Bag of Words\n",
        "pipe = Pipeline([(\"cleaner\", predictors()),\n",
        "                 ('vectorizer', tfidf_vector),\n",
        "                 ('classifier', classifier)])\n",
        "\n",
        "# model generation\n",
        "pipe.fit(X_train,y_train)"
      ]
    },
    {
      "cell_type": "code",
      "execution_count": null,
      "metadata": {
        "colab": {
          "base_uri": "https://localhost:8080/",
          "height": 35
        },
        "id": "5vdklgNVaTMv",
        "outputId": "12d51f92-3c08-4bd0-abfc-ca26326b6627"
      },
      "outputs": [
        {
          "name": "stdout",
          "output_type": "stream",
          "text": [
            "SVM Accuracy: 0.8547089695914761\n"
          ]
        }
      ],
      "source": [
        "from sklearn import metrics\n",
        "# Predicting with a test dataset\n",
        "predicted = pipe.predict(X_test)\n",
        "\n",
        "# Model Accuracy\n",
        "print(\"SVM Accuracy:\",metrics.accuracy_score(y_test, predicted))"
      ]
    },
    {
      "cell_type": "code",
      "execution_count": null,
      "metadata": {
        "colab": {
          "base_uri": "https://localhost:8080/",
          "height": 69
        },
        "id": "8tArY22qadKc",
        "outputId": "5a251d64-bca1-4c52-d79a-1a7139084731"
      },
      "outputs": [
        {
          "name": "stdout",
          "output_type": "stream",
          "text": [
            "Very warm & welcoming from the moment we got there. Equipt with all basics essentials one would need.\n",
            "First guess: 4.0\n",
            "Second guess: 2.0\n"
          ]
        }
      ],
      "source": [
        "#test on new data\n",
        "x=np.random.randint(0,len(df_train))\n",
        "sample_pred = df_train['comments'][x]\n",
        "print(sample_pred)\n",
        "\n",
        "prediction_test = pipe.predict(sample_pred)\n",
        "print(\"First guess:\", prediction_test[0])\n",
        "print(\"Second guess:\", prediction_test[1])"
      ]
    },
    {
      "cell_type": "markdown",
      "metadata": {
        "id": "IbUTDtQrfWbR"
      },
      "source": [
        "We get much better accuracy with the SVM model.\n",
        "\n",
        "In this random example, we see that the model predicted the topic 4 (accomodation). We can also ask to see the next likely topic."
      ]
    }
  ],
  "metadata": {
    "colab": {
      "provenance": []
    },
    "kernelspec": {
      "display_name": "Python 3",
      "name": "python3"
    }
  },
  "nbformat": 4,
  "nbformat_minor": 0
}